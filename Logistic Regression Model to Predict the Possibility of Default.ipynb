{
 "cells": [
  {
   "cell_type": "code",
   "execution_count": 1,
   "metadata": {},
   "outputs": [],
   "source": [
    "# 导入包\n",
    "import pandas as pd\n",
    "import numpy as np\n",
    "## 标准化数值变量\n",
    "from sklearn.preprocessing import StandardScaler\n",
    "## 绘图\n",
    "import matplotlib.pyplot as plt\n",
    "import seaborn as sns\n",
    "## 数据集分成训练集和测试集\n",
    "from sklearn.model_selection import train_test_split\n",
    "## 评价训练模型在测试集的得分\n",
    "from sklearn.model_selection import cross_val_score\n",
    "## 特征选择\n",
    "from sklearn.feature_selection import SelectFromModel\n",
    "from sklearn.linear_model import LassoCV\n",
    "\n",
    "## 创建逻辑回归模型\n",
    "from sklearn.linear_model import LogisticRegression\n",
    "\n",
    "% matplotlib inline"
   ]
  },
  {
   "cell_type": "code",
   "execution_count": 2,
   "metadata": {},
   "outputs": [],
   "source": [
    "# 导入数据集\n",
    "df = pd.read_csv('prosperLoanData.csv',parse_dates=['ListingCreationDate','DateCreditPulled','LoanOriginationDate'])"
   ]
  },
  {
   "cell_type": "code",
   "execution_count": 3,
   "metadata": {},
   "outputs": [
    {
     "name": "stdout",
     "output_type": "stream",
     "text": [
      "<class 'pandas.core.frame.DataFrame'>\n",
      "RangeIndex: 113937 entries, 0 to 113936\n",
      "Data columns (total 81 columns):\n",
      "ListingKey                             113937 non-null object\n",
      "ListingNumber                          113937 non-null int64\n",
      "ListingCreationDate                    113937 non-null datetime64[ns]\n",
      "CreditGrade                            28953 non-null object\n",
      "Term                                   113937 non-null int64\n",
      "LoanStatus                             113937 non-null object\n",
      "ClosedDate                             55089 non-null object\n",
      "BorrowerAPR                            113912 non-null float64\n",
      "BorrowerRate                           113937 non-null float64\n",
      "LenderYield                            113937 non-null float64\n",
      "EstimatedEffectiveYield                84853 non-null float64\n",
      "EstimatedLoss                          84853 non-null float64\n",
      "EstimatedReturn                        84853 non-null float64\n",
      "ProsperRating (numeric)                84853 non-null float64\n",
      "ProsperRating (Alpha)                  84853 non-null object\n",
      "ProsperScore                           84853 non-null float64\n",
      "ListingCategory (numeric)              113937 non-null int64\n",
      "BorrowerState                          108422 non-null object\n",
      "Occupation                             110349 non-null object\n",
      "EmploymentStatus                       111682 non-null object\n",
      "EmploymentStatusDuration               106312 non-null float64\n",
      "IsBorrowerHomeowner                    113937 non-null bool\n",
      "CurrentlyInGroup                       113937 non-null bool\n",
      "GroupKey                               13341 non-null object\n",
      "DateCreditPulled                       113937 non-null datetime64[ns]\n",
      "CreditScoreRangeLower                  113346 non-null float64\n",
      "CreditScoreRangeUpper                  113346 non-null float64\n",
      "FirstRecordedCreditLine                113240 non-null object\n",
      "CurrentCreditLines                     106333 non-null float64\n",
      "OpenCreditLines                        106333 non-null float64\n",
      "TotalCreditLinespast7years             113240 non-null float64\n",
      "OpenRevolvingAccounts                  113937 non-null int64\n",
      "OpenRevolvingMonthlyPayment            113937 non-null float64\n",
      "InquiriesLast6Months                   113240 non-null float64\n",
      "TotalInquiries                         112778 non-null float64\n",
      "CurrentDelinquencies                   113240 non-null float64\n",
      "AmountDelinquent                       106315 non-null float64\n",
      "DelinquenciesLast7Years                112947 non-null float64\n",
      "PublicRecordsLast10Years               113240 non-null float64\n",
      "PublicRecordsLast12Months              106333 non-null float64\n",
      "RevolvingCreditBalance                 106333 non-null float64\n",
      "BankcardUtilization                    106333 non-null float64\n",
      "AvailableBankcardCredit                106393 non-null float64\n",
      "TotalTrades                            106393 non-null float64\n",
      "TradesNeverDelinquent (percentage)     106393 non-null float64\n",
      "TradesOpenedLast6Months                106393 non-null float64\n",
      "DebtToIncomeRatio                      105383 non-null float64\n",
      "IncomeRange                            113937 non-null object\n",
      "IncomeVerifiable                       113937 non-null bool\n",
      "StatedMonthlyIncome                    113937 non-null float64\n",
      "LoanKey                                113937 non-null object\n",
      "TotalProsperLoans                      22085 non-null float64\n",
      "TotalProsperPaymentsBilled             22085 non-null float64\n",
      "OnTimeProsperPayments                  22085 non-null float64\n",
      "ProsperPaymentsLessThanOneMonthLate    22085 non-null float64\n",
      "ProsperPaymentsOneMonthPlusLate        22085 non-null float64\n",
      "ProsperPrincipalBorrowed               22085 non-null float64\n",
      "ProsperPrincipalOutstanding            22085 non-null float64\n",
      "ScorexChangeAtTimeOfListing            18928 non-null float64\n",
      "LoanCurrentDaysDelinquent              113937 non-null int64\n",
      "LoanFirstDefaultedCycleNumber          16952 non-null float64\n",
      "LoanMonthsSinceOrigination             113937 non-null int64\n",
      "LoanNumber                             113937 non-null int64\n",
      "LoanOriginalAmount                     113937 non-null int64\n",
      "LoanOriginationDate                    113937 non-null datetime64[ns]\n",
      "LoanOriginationQuarter                 113937 non-null object\n",
      "MemberKey                              113937 non-null object\n",
      "MonthlyLoanPayment                     113937 non-null float64\n",
      "LP_CustomerPayments                    113937 non-null float64\n",
      "LP_CustomerPrincipalPayments           113937 non-null float64\n",
      "LP_InterestandFees                     113937 non-null float64\n",
      "LP_ServiceFees                         113937 non-null float64\n",
      "LP_CollectionFees                      113937 non-null float64\n",
      "LP_GrossPrincipalLoss                  113937 non-null float64\n",
      "LP_NetPrincipalLoss                    113937 non-null float64\n",
      "LP_NonPrincipalRecoverypayments        113937 non-null float64\n",
      "PercentFunded                          113937 non-null float64\n",
      "Recommendations                        113937 non-null int64\n",
      "InvestmentFromFriendsCount             113937 non-null int64\n",
      "InvestmentFromFriendsAmount            113937 non-null float64\n",
      "Investors                              113937 non-null int64\n",
      "dtypes: bool(3), datetime64[ns](3), float64(50), int64(11), object(14)\n",
      "memory usage: 68.1+ MB\n"
     ]
    }
   ],
   "source": [
    "# 查看数据集\n",
    "df.info()"
   ]
  },
  {
   "cell_type": "code",
   "execution_count": 4,
   "metadata": {},
   "outputs": [
    {
     "data": {
      "text/plain": [
       "array(['Completed', 'Current', 'Past Due (1-15 days)', 'Defaulted',\n",
       "       'Chargedoff', 'Past Due (16-30 days)', 'Cancelled',\n",
       "       'Past Due (61-90 days)', 'Past Due (31-60 days)',\n",
       "       'Past Due (91-120 days)', 'FinalPaymentInProgress',\n",
       "       'Past Due (>120 days)'], dtype=object)"
      ]
     },
     "execution_count": 4,
     "metadata": {},
     "output_type": "execute_result"
    }
   ],
   "source": [
    "df['LoanStatus'].unique()"
   ]
  },
  {
   "cell_type": "code",
   "execution_count": 5,
   "metadata": {},
   "outputs": [],
   "source": [
    "# 数据评估\n",
    "\n",
    "## 1.将数据集按照贷款生成日期(LoanOriginationDate)以2009年7月1日为节点分成两部分，因为在此日期前后采用的是不同的信用等级机制。我们研究2009.7.1以后。\n",
    "## 2.将'LoanStatus'多个还款状态改成还款和违约（分别用1和0表示）；"
   ]
  },
  {
   "cell_type": "code",
   "execution_count": 6,
   "metadata": {},
   "outputs": [],
   "source": [
    "# 数据清洗\n",
    "\n",
    "## 获取2009.7.1以后数据集\n",
    "df_clean = df[df['LoanOriginationDate']>='2009-07-01']\n",
    "#df_clean.info()"
   ]
  },
  {
   "cell_type": "code",
   "execution_count": 7,
   "metadata": {},
   "outputs": [
    {
     "data": {
      "text/plain": [
       "Timestamp('2009-07-20 00:00:00')"
      ]
     },
     "execution_count": 7,
     "metadata": {},
     "output_type": "execute_result"
    }
   ],
   "source": [
    "## 测试\n",
    "df_clean['LoanOriginationDate'].min()"
   ]
  },
  {
   "cell_type": "code",
   "execution_count": 8,
   "metadata": {},
   "outputs": [
    {
     "name": "stderr",
     "output_type": "stream",
     "text": [
      "/anaconda3/lib/python3.7/site-packages/pandas/core/generic.py:5890: SettingWithCopyWarning: \n",
      "A value is trying to be set on a copy of a slice from a DataFrame\n",
      "\n",
      "See the caveats in the documentation: http://pandas.pydata.org/pandas-docs/stable/indexing.html#indexing-view-versus-copy\n",
      "  self._update_inplace(new_data)\n"
     ]
    }
   ],
   "source": [
    "## 将'LoanStatus'多个还款状态改成还款和违约（分别用1和0表示）\n",
    "\n",
    "\"\"\"\n",
    "因为数据集中各贷款状态（LoanStatus）的样本数量悬殊较大，同时参考Proper对各贷款状态的说明（Past Due四个月后才进入Chargedoff状态），\n",
    "我将原先的12种状态划分为重点研究的是三种状态，即完成（包括Completed和FinalPaymentInProgress）、\n",
    "未完成（包括Defaulted、Chargedoff和各种Past Due）和正在完成（Current）,分别标记为\"Completed\"，\"Current\"和\"Defaulted\"。\n",
    "另外取消（Cancelled）状态只有5个样本，直接删除该等级。\n",
    "\"\"\"\n",
    "\n",
    "### 完成状态\n",
    "df_clean['LoanStatus'].replace('FinalPaymentInProgress','Completed',inplace=True)\n",
    "\n",
    "### 违约状态\n",
    "defaults = ['Chargedoff','Past Due (1-15 days)','Past Due (16-30 days)',\n",
    "           'Past Due (31-60 days)','Past Due (61-90 days)',\n",
    "           'Past Due (91-120 days)','Past Due (>120 days)']\n",
    "\n",
    "for default in defaults:\n",
    "    df_clean['LoanStatus'].replace(default,'Defaulted',inplace=True)\n",
    "\n",
    "### 删除‘Cancelled’和'Current'\n",
    "df_clean = df_clean[~(df_clean['LoanStatus'].isin(['Cancelled','Current']))]\n",
    "\n",
    "### 'Completed'替换为1，'Defaulted'替换为0\n",
    "df_clean['LoanStatus'] = df_clean['LoanStatus']=='Completed'  "
   ]
  },
  {
   "cell_type": "code",
   "execution_count": 9,
   "metadata": {},
   "outputs": [
    {
     "data": {
      "text/plain": [
       "array([False,  True])"
      ]
     },
     "execution_count": 9,
     "metadata": {},
     "output_type": "execute_result"
    }
   ],
   "source": [
    "## 测试\n",
    "df_clean['LoanStatus'].unique()"
   ]
  },
  {
   "cell_type": "code",
   "execution_count": 10,
   "metadata": {},
   "outputs": [],
   "source": [
    "## 准备建模数据集——去除无关列\n",
    "df_model = df_clean.drop(['ListingKey',\n",
    "                          'ListingNumber',\n",
    "                          'ListingCreationDate',\n",
    "                          'CreditGrade',\n",
    "                          'ClosedDate',\n",
    "                          'ProsperRating (Alpha)',\n",
    "                          'GroupKey',\n",
    "                          'DateCreditPulled',\n",
    "                          'LoanKey',\n",
    "                          'LoanOriginationDate',\n",
    "                          'LoanNumber',\n",
    "                          'LoanOriginationDate',\n",
    "                          'MemberKey'],\n",
    "                           axis=1)"
   ]
  },
  {
   "cell_type": "code",
   "execution_count": 11,
   "metadata": {},
   "outputs": [
    {
     "data": {
      "text/plain": [
       "array([0., 1.])"
      ]
     },
     "execution_count": 11,
     "metadata": {},
     "output_type": "execute_result"
    }
   ],
   "source": [
    "## 缺失值处理\n",
    "### 缺失值较多——>1.下述列中的缺失值代表该客户之前没有Prosper贷款记录\n",
    "missing_value_cols = {'TotalProsperLoans':0,'TotalProsperPaymentsBilled':0,\n",
    "                      'OnTimeProsperPayments':0,'ProsperPaymentsLessThanOneMonthLate':0,\n",
    "                      'ProsperPaymentsOneMonthPlusLate':0,'ProsperPrincipalBorrowed':0,\n",
    "                      'ProsperPrincipalOutstanding':0,'ScorexChangeAtTimeOfListing':0}\n",
    "\n",
    "### 检测上述特征值空值位置是否相同\n",
    "df_model[df_model['TotalProsperLoans'].isnull()][list(missing_value_cols.keys())].sum()  #结果是0，表示空值位置相同\n",
    "\n",
    "### 引入新的特征\"之前是否办理过Prosper贷款\"('PriorLoans')，是为1，否为0\n",
    "\n",
    "df_model['PriorLoans'] = np.nan\n",
    "df_model.loc[df_model['TotalProsperLoans'].isnull(),'PriorLoans'] = 0\n",
    "df_model.loc[df_model['TotalProsperLoans'].notnull(),'PriorLoans'] = 1\n",
    "df_model['PriorLoans'].unique()"
   ]
  },
  {
   "cell_type": "code",
   "execution_count": 12,
   "metadata": {},
   "outputs": [
    {
     "name": "stdout",
     "output_type": "stream",
     "text": [
      "<class 'pandas.core.frame.DataFrame'>\n",
      "Int64Index: 28408 entries, 12 to 113935\n",
      "Data columns (total 8 columns):\n",
      "TotalProsperLoans                      28408 non-null float64\n",
      "TotalProsperPaymentsBilled             28408 non-null float64\n",
      "OnTimeProsperPayments                  28408 non-null float64\n",
      "ProsperPaymentsLessThanOneMonthLate    28408 non-null float64\n",
      "ProsperPaymentsOneMonthPlusLate        28408 non-null float64\n",
      "ProsperPrincipalBorrowed               28408 non-null float64\n",
      "ProsperPrincipalOutstanding            28408 non-null float64\n",
      "ScorexChangeAtTimeOfListing            28408 non-null float64\n",
      "dtypes: float64(8)\n",
      "memory usage: 2.0 MB\n"
     ]
    }
   ],
   "source": [
    "### 将missing_value_cols键所表示的列的缺失值填充为0\n",
    "df_model.fillna(missing_value_cols,inplace=True)\n",
    "df_model[list(missing_value_cols.keys())].info()"
   ]
  },
  {
   "cell_type": "code",
   "execution_count": 13,
   "metadata": {},
   "outputs": [],
   "source": [
    "### 缺失值较多——>2.‘LoanFirstDefaultedCycleNumber’缺失值表示贷款尚未拖欠，此处用0替换缺失值\n",
    "df_model['LoanFirstDefaultedCycleNumber'].fillna(0,inplace=True)"
   ]
  },
  {
   "cell_type": "code",
   "execution_count": 14,
   "metadata": {},
   "outputs": [],
   "source": [
    "### 缺失值较少的列，采取将缺失值直接删除\n",
    "\n",
    "df_model.dropna(inplace=True)"
   ]
  },
  {
   "cell_type": "code",
   "execution_count": 15,
   "metadata": {},
   "outputs": [],
   "source": [
    "## 'FirstRecordedCreditLine'表示第一次办理授信额度的日期，这里只提取年份。\n",
    "df_model['FirstRecordedCreditLineYear'] = df_model['FirstRecordedCreditLine'].str[0:4]\n",
    "df_model.drop('FirstRecordedCreditLine',axis=1,inplace=True)"
   ]
  },
  {
   "cell_type": "code",
   "execution_count": 16,
   "metadata": {},
   "outputs": [
    {
     "name": "stdout",
     "output_type": "stream",
     "text": [
      "<class 'pandas.core.frame.DataFrame'>\n",
      "Int64Index: 25046 entries, 12 to 113935\n",
      "Data columns (total 70 columns):\n",
      "Term                                   25046 non-null int64\n",
      "LoanStatus                             25046 non-null bool\n",
      "BorrowerAPR                            25046 non-null float64\n",
      "BorrowerRate                           25046 non-null float64\n",
      "LenderYield                            25046 non-null float64\n",
      "EstimatedEffectiveYield                25046 non-null float64\n",
      "EstimatedLoss                          25046 non-null float64\n",
      "EstimatedReturn                        25046 non-null float64\n",
      "ProsperRating (numeric)                25046 non-null float64\n",
      "ProsperScore                           25046 non-null float64\n",
      "ListingCategory (numeric)              25046 non-null int64\n",
      "BorrowerState                          25046 non-null object\n",
      "Occupation                             25046 non-null object\n",
      "EmploymentStatus                       25046 non-null object\n",
      "EmploymentStatusDuration               25046 non-null float64\n",
      "IsBorrowerHomeowner                    25046 non-null bool\n",
      "CurrentlyInGroup                       25046 non-null bool\n",
      "CreditScoreRangeLower                  25046 non-null float64\n",
      "CreditScoreRangeUpper                  25046 non-null float64\n",
      "CurrentCreditLines                     25046 non-null float64\n",
      "OpenCreditLines                        25046 non-null float64\n",
      "TotalCreditLinespast7years             25046 non-null float64\n",
      "OpenRevolvingAccounts                  25046 non-null int64\n",
      "OpenRevolvingMonthlyPayment            25046 non-null float64\n",
      "InquiriesLast6Months                   25046 non-null float64\n",
      "TotalInquiries                         25046 non-null float64\n",
      "CurrentDelinquencies                   25046 non-null float64\n",
      "AmountDelinquent                       25046 non-null float64\n",
      "DelinquenciesLast7Years                25046 non-null float64\n",
      "PublicRecordsLast10Years               25046 non-null float64\n",
      "PublicRecordsLast12Months              25046 non-null float64\n",
      "RevolvingCreditBalance                 25046 non-null float64\n",
      "BankcardUtilization                    25046 non-null float64\n",
      "AvailableBankcardCredit                25046 non-null float64\n",
      "TotalTrades                            25046 non-null float64\n",
      "TradesNeverDelinquent (percentage)     25046 non-null float64\n",
      "TradesOpenedLast6Months                25046 non-null float64\n",
      "DebtToIncomeRatio                      25046 non-null float64\n",
      "IncomeRange                            25046 non-null object\n",
      "IncomeVerifiable                       25046 non-null bool\n",
      "StatedMonthlyIncome                    25046 non-null float64\n",
      "TotalProsperLoans                      25046 non-null float64\n",
      "TotalProsperPaymentsBilled             25046 non-null float64\n",
      "OnTimeProsperPayments                  25046 non-null float64\n",
      "ProsperPaymentsLessThanOneMonthLate    25046 non-null float64\n",
      "ProsperPaymentsOneMonthPlusLate        25046 non-null float64\n",
      "ProsperPrincipalBorrowed               25046 non-null float64\n",
      "ProsperPrincipalOutstanding            25046 non-null float64\n",
      "ScorexChangeAtTimeOfListing            25046 non-null float64\n",
      "LoanCurrentDaysDelinquent              25046 non-null int64\n",
      "LoanFirstDefaultedCycleNumber          25046 non-null float64\n",
      "LoanMonthsSinceOrigination             25046 non-null int64\n",
      "LoanOriginalAmount                     25046 non-null int64\n",
      "LoanOriginationQuarter                 25046 non-null object\n",
      "MonthlyLoanPayment                     25046 non-null float64\n",
      "LP_CustomerPayments                    25046 non-null float64\n",
      "LP_CustomerPrincipalPayments           25046 non-null float64\n",
      "LP_InterestandFees                     25046 non-null float64\n",
      "LP_ServiceFees                         25046 non-null float64\n",
      "LP_CollectionFees                      25046 non-null float64\n",
      "LP_GrossPrincipalLoss                  25046 non-null float64\n",
      "LP_NetPrincipalLoss                    25046 non-null float64\n",
      "LP_NonPrincipalRecoverypayments        25046 non-null float64\n",
      "PercentFunded                          25046 non-null float64\n",
      "Recommendations                        25046 non-null int64\n",
      "InvestmentFromFriendsCount             25046 non-null int64\n",
      "InvestmentFromFriendsAmount            25046 non-null float64\n",
      "Investors                              25046 non-null int64\n",
      "PriorLoans                             25046 non-null float64\n",
      "FirstRecordedCreditLineYear            25046 non-null object\n",
      "dtypes: bool(4), float64(51), int64(9), object(6)\n",
      "memory usage: 12.9+ MB\n"
     ]
    }
   ],
   "source": [
    "## 查看处理后的数据集\n",
    "df_model.info()"
   ]
  },
  {
   "cell_type": "code",
   "execution_count": 17,
   "metadata": {},
   "outputs": [
    {
     "name": "stdout",
     "output_type": "stream",
     "text": [
      "3\n",
      "48\n",
      "66\n",
      "7\n",
      "6\n",
      "19\n",
      "59\n"
     ]
    }
   ],
   "source": [
    "# 特征工程\n",
    "\n",
    "## 1.分类变量转换('BorrowerState','Occupation','EmploymentStatus','IncomeRange','LoanOriginationQuarter','FirstRecordedCreditLineYear')\n",
    "\n",
    "categorical_vars = ['Term',\n",
    "                    'EmploymentStatus',\n",
    "                    'IncomeRange',\n",
    "                    'LoanStatus',\n",
    "                    'IsBorrowerHomeowner',\n",
    "                    'CurrentlyInGroup',\n",
    "                    'IncomeVerifiable',\n",
    "                    'BorrowerState',\n",
    "                    'Occupation',\n",
    "                    'LoanOriginationQuarter',\n",
    "                    'FirstRecordedCreditLineYear']\n",
    "\n",
    "for var in categorical_vars:\n",
    "    df_model[var] = df_model[var].astype('category')\n",
    "\n",
    "print(df_model['Term'].nunique())   \n",
    "print(df_model['BorrowerState'].nunique())\n",
    "print(df_model['Occupation'].nunique())\n",
    "print(df_model['EmploymentStatus'].nunique())\n",
    "print(df_model['IncomeRange'].nunique())\n",
    "print(df_model['LoanOriginationQuarter'].nunique())\n",
    "print(df_model['FirstRecordedCreditLineYear'].nunique())\n",
    "      \n",
    "\n",
    "### 对于categorical_vars中前六个类别较少的分类变量采取虚拟变量的方法转换\n",
    "\n",
    "df_model = pd.get_dummies(df_model,columns=categorical_vars[:7],drop_first=True)\n",
    "\n",
    "### 对于categorical_vars中后四个类别较多的分类变量采取factorize转换\n",
    "\n",
    "df_model['BorrowerState'] = pd.factorize(df_model['BorrowerState'])[0]\n",
    "df_model['Occupation'] = pd.factorize(df_model['Occupation'])[0]\n",
    "df_model['LoanOriginationQuarter'] = pd.factorize(df_model['LoanOriginationQuarter'],sort=True)[0]\n",
    "df_model['FirstRecordedCreditLineYear'] = pd.factorize(df_model['FirstRecordedCreditLineYear'],sort=True)[0]"
   ]
  },
  {
   "cell_type": "code",
   "execution_count": 18,
   "metadata": {},
   "outputs": [
    {
     "data": {
      "text/plain": [
       "\"\\nfor var in numeric_vars:\\n    df_model[var].plot(kind='density')\\n    plt.show()\\n\""
      ]
     },
     "execution_count": 18,
     "metadata": {},
     "output_type": "execute_result"
    }
   ],
   "source": [
    "## 2.数值变量转换(量纲不一)\n",
    "\n",
    "numeric_vars = ['BorrowerAPR',\n",
    "                'BorrowerRate',\n",
    "                'LenderYield',\n",
    "                'EstimatedEffectiveYield',\n",
    "                'EstimatedLoss',\n",
    "                'EstimatedReturn',\n",
    "                #'ProsperRating (numeric)',\n",
    "                #'ProsperScore',\n",
    "                #'ListingCategory (numeric)',\n",
    "                'EmploymentStatusDuration',\n",
    "                'CreditScoreRangeLower',\n",
    "                'CreditScoreRangeUpper',\n",
    "                'CurrentCreditLines',\n",
    "                'OpenCreditLines',\n",
    "                'TotalCreditLinespast7years',\n",
    "                'OpenRevolvingAccounts',\n",
    "                'OpenRevolvingMonthlyPayment',\n",
    "                'InquiriesLast6Months',\n",
    "                'TotalInquiries',\n",
    "                'CurrentDelinquencies',\n",
    "                'AmountDelinquent',\n",
    "                'DelinquenciesLast7Years',\n",
    "                'PublicRecordsLast10Years',\n",
    "                'PublicRecordsLast12Months',\n",
    "                'RevolvingCreditBalance',\n",
    "                'BankcardUtilization',\n",
    "                'AvailableBankcardCredit',\n",
    "                'TotalTrades',\n",
    "                'TradesNeverDelinquent (percentage)',  #已经是0-1之间的数值\n",
    "                'TradesOpenedLast6Months',\n",
    "                'DebtToIncomeRatio',\n",
    "                'StatedMonthlyIncome',\n",
    "                'TotalProsperLoans',\n",
    "                'TotalProsperPaymentsBilled',\n",
    "                'OnTimeProsperPayments',\n",
    "                'ProsperPaymentsLessThanOneMonthLate',\n",
    "                'ProsperPaymentsOneMonthPlusLate',\n",
    "                'ProsperPrincipalBorrowed',\n",
    "                'ProsperPrincipalOutstanding',\n",
    "                'ScorexChangeAtTimeOfListing',\n",
    "                'LoanCurrentDaysDelinquent',\n",
    "                'LoanFirstDefaultedCycleNumber',\n",
    "                'LoanMonthsSinceOrigination',\n",
    "                'LoanOriginalAmount',\n",
    "                'MonthlyLoanPayment',\n",
    "                'LP_CustomerPayments',# 等于下面两个特征的和\n",
    "                'LP_CustomerPrincipalPayments',\n",
    "                'LP_InterestandFees',\n",
    "                'LP_ServiceFees',\n",
    "                'LP_CollectionFees',\n",
    "                'LP_GrossPrincipalLoss',\n",
    "                'LP_NetPrincipalLoss',\n",
    "                'LP_NonPrincipalRecoverypayments',\n",
    "                'PercentFunded',#已经是0-1之间的数值\n",
    "                'Recommendations',\n",
    "                'InvestmentFromFriendsCount',\n",
    "                'InvestmentFromFriendsAmount',\n",
    "                'Investors']\n",
    "\n",
    "### 查看各数值变量分布情况，经核实总体上均呈正态分布，满足标准化转化条件\n",
    "\"\"\"\n",
    "for var in numeric_vars:\n",
    "    df_model[var].plot(kind='density')\n",
    "    plt.show()\n",
    "\"\"\""
   ]
  },
  {
   "cell_type": "code",
   "execution_count": 19,
   "metadata": {},
   "outputs": [],
   "source": [
    "### 标准化上述数值变量\n",
    "scaler = StandardScaler().fit(df_model[numeric_vars])\n",
    "df_model[numeric_vars] = scaler.transform(df_model[numeric_vars])"
   ]
  },
  {
   "cell_type": "code",
   "execution_count": 20,
   "metadata": {},
   "outputs": [],
   "source": [
    "# 特征选择"
   ]
  },
  {
   "cell_type": "code",
   "execution_count": 21,
   "metadata": {},
   "outputs": [],
   "source": [
    "## 将训练数据和测试数据分开\n",
    "\n",
    "feature_cols = [i for i in df_model.columns if i != 'LoanStatus_True']\n",
    "X_1 = df_model[feature_cols]\n",
    "y_1 = df_model['LoanStatus_True']\n",
    "\n",
    "X_train_1,X_test_1,y_train_1,y_test_1 = train_test_split(X_1,y_1,test_size=0.2)"
   ]
  },
  {
   "cell_type": "code",
   "execution_count": 22,
   "metadata": {},
   "outputs": [
    {
     "data": {
      "text/plain": [
       "Index(['EstimatedEffectiveYield', 'LoanCurrentDaysDelinquent',\n",
       "       'LoanFirstDefaultedCycleNumber', 'LoanMonthsSinceOrigination',\n",
       "       'LoanOriginalAmount', 'MonthlyLoanPayment', 'LP_CustomerPayments',\n",
       "       'LP_CustomerPrincipalPayments', 'LP_ServiceFees', 'LP_CollectionFees',\n",
       "       'LP_GrossPrincipalLoss', 'Investors', 'Term_36', 'Term_60',\n",
       "       'EmploymentStatus_Other'],\n",
       "      dtype='object')"
      ]
     },
     "execution_count": 22,
     "metadata": {},
     "output_type": "execute_result"
    }
   ],
   "source": [
    "## 特征选择——>1.基于L1惩罚项的特征选择（考虑特征数据的多重共线性及稀疏度）\n",
    "from sklearn.feature_selection import SelectFromModel\n",
    "from sklearn.linear_model import LassoCV\n",
    "sfm_0 = SelectFromModel(LassoCV(max_iter=3000),threshold=0.02)\n",
    "sfm_0.fit_transform(X_train_1,y_train_1)\n",
    "### 提取到的特征\n",
    "X_train_1.columns[sfm_0.get_support()]"
   ]
  },
  {
   "cell_type": "code",
   "execution_count": 23,
   "metadata": {},
   "outputs": [],
   "source": [
    "## 根据选择出的特征重新划分训练集和测试集\n",
    "\n",
    "X = df_model[['EstimatedEffectiveYield', 'LoanCurrentDaysDelinquent',\n",
    "       'LoanFirstDefaultedCycleNumber', 'LoanMonthsSinceOrigination',\n",
    "       'LoanOriginalAmount', 'MonthlyLoanPayment', 'LP_CustomerPayments',\n",
    "       'LP_CustomerPrincipalPayments', 'LP_ServiceFees', 'LP_CollectionFees',\n",
    "       'LP_GrossPrincipalLoss', 'Investors', 'Term_36', 'Term_60',\n",
    "       'EmploymentStatus_Other']]\n",
    "\n",
    "y = df_model['LoanStatus_True']\n",
    "\n",
    "X_train,X_test,y_train,y_test = train_test_split(X,y,test_size=0.2)"
   ]
  },
  {
   "cell_type": "code",
   "execution_count": 24,
   "metadata": {},
   "outputs": [],
   "source": [
    "# 建立逻辑回归模型\n",
    "\n",
    "log_model = LogisticRegression()"
   ]
  },
  {
   "cell_type": "code",
   "execution_count": 25,
   "metadata": {},
   "outputs": [
    {
     "name": "stdout",
     "output_type": "stream",
     "text": [
      "0.9918163672654691\n"
     ]
    },
    {
     "data": {
      "text/plain": [
       "0.9912957945334403"
      ]
     },
     "execution_count": 25,
     "metadata": {},
     "output_type": "execute_result"
    }
   ],
   "source": [
    "## 用训练数据拟合模型\n",
    "log_model.fit(X_train,y_train)\n",
    "## 模型评分\n",
    "print(log_model.score(X_test,y_test))\n",
    "## 模型预测\n",
    "y_pred = log_model.predict(X_test)\n",
    "## 十折交叉验证(测试集得分)\n",
    "cross_val_score(log_model,X,y,cv=10).mean()"
   ]
  },
  {
   "cell_type": "code",
   "execution_count": 27,
   "metadata": {},
   "outputs": [
    {
     "data": {
      "image/png": "[encoded data removed]",
      "text/plain": [
       "<Figure size 432x288 with 1 Axes>"
      ]
     },
     "metadata": {
      "needs_background": "light"
     },
     "output_type": "display_data"
    }
   ],
   "source": [
    "## 学习曲线\n",
    "\n",
    "from sklearn.model_selection import learning_curve\n",
    "\n",
    "def plot_learning_curve(estimator, title, X, y, ylim=None, cv=None,\n",
    "                        n_jobs=None, train_sizes=np.linspace(.1, 1.0, 10)):\n",
    "    \"\"\"\n",
    "    Generate a simple plot of the test and training learning curve.\n",
    "\n",
    "    Parameters\n",
    "    ----------\n",
    "    estimator : object type that implements the \"fit\" and \"predict\" methods\n",
    "        An object of that type which is cloned for each validation.\n",
    "\n",
    "    title : string\n",
    "        Title for the chart.\n",
    "\n",
    "    X : array-like, shape (n_samples, n_features)\n",
    "        Training vector, where n_samples is the number of samples and\n",
    "        n_features is the number of features.\n",
    "\n",
    "    y : array-like, shape (n_samples) or (n_samples, n_features), optional\n",
    "        Target relative to X for classification or regression;\n",
    "        None for unsupervised learning.\n",
    "\n",
    "    ylim : tuple, shape (ymin, ymax), optional\n",
    "        Defines minimum and maximum yvalues plotted.\n",
    "\n",
    "    cv : int, cross-validation generator or an iterable, optional\n",
    "        Determines the cross-validation splitting strategy.\n",
    "        Possible inputs for cv are:\n",
    "          - None, to use the default 3-fold cross-validation,\n",
    "          - integer, to specify the number of folds.\n",
    "          - :term:`CV splitter`,\n",
    "          - An iterable yielding (train, test) splits as arrays of indices.\n",
    "\n",
    "        For integer/None inputs, if ``y`` is binary or multiclass,\n",
    "        :class:`StratifiedKFold` used. If the estimator is not a classifier\n",
    "        or if ``y`` is neither binary nor multiclass, :class:`KFold` is used.\n",
    "\n",
    "        Refer :ref:`User Guide <cross_validation>` for the various\n",
    "        cross-validators that can be used here.\n",
    "\n",
    "    n_jobs : int or None, optional (default=None)\n",
    "        Number of jobs to run in parallel.\n",
    "        ``None`` means 1 unless in a :obj:`joblib.parallel_backend` context.\n",
    "        ``-1`` means using all processors. See :term:`Glossary <n_jobs>`\n",
    "        for more details.\n",
    "\n",
    "    train_sizes : array-like, shape (n_ticks,), dtype float or int\n",
    "        Relative or absolute numbers of training examples that will be used to\n",
    "        generate the learning curve. If the dtype is float, it is regarded as a\n",
    "        fraction of the maximum size of the training set (that is determined\n",
    "        by the selected validation method), i.e. it has to be within (0, 1].\n",
    "        Otherwise it is interpreted as absolute sizes of the training sets.\n",
    "        Note that for classification the number of samples usually have to\n",
    "        be big enough to contain at least one sample from each class.\n",
    "        (default: np.linspace(0.1, 1.0, 5))\n",
    "    \"\"\"\n",
    "    plt.figure()\n",
    "    plt.title(title)\n",
    "    if ylim is not None:\n",
    "        plt.ylim(*ylim)\n",
    "    plt.xlabel(\"Training examples\")\n",
    "    plt.ylabel(\"Score\")\n",
    "    train_sizes, train_scores, test_scores = learning_curve(\n",
    "        estimator, X, y, cv=cv, n_jobs=n_jobs, train_sizes=train_sizes)\n",
    "    train_scores_mean = np.mean(train_scores, axis=1)\n",
    "    train_scores_std = np.std(train_scores, axis=1)\n",
    "    test_scores_mean = np.mean(test_scores, axis=1)\n",
    "    test_scores_std = np.std(test_scores, axis=1)\n",
    "    plt.grid()\n",
    "\n",
    "    plt.fill_between(train_sizes, train_scores_mean - train_scores_std,\n",
    "                     train_scores_mean + train_scores_std, alpha=0.1,\n",
    "                     color=\"r\")\n",
    "    plt.fill_between(train_sizes, test_scores_mean - test_scores_std,\n",
    "                     test_scores_mean + test_scores_std, alpha=0.1, color=\"g\")\n",
    "    plt.plot(train_sizes, train_scores_mean, 'o-', color=\"r\",\n",
    "             label=\"Training score\")\n",
    "    plt.plot(train_sizes, test_scores_mean, 'o-', color=\"g\",\n",
    "             label=\"Cross-validation score\")\n",
    "\n",
    "    plt.legend(loc=\"best\")\n",
    "    return plt\n",
    "\n",
    "\n",
    "title = \"Learning Curves (LogisticRegression)\"\n",
    "# Cross validation with 100 iterations to get smoother mean test and train\n",
    "# score curves, each time with 20% data randomly selected as a validation set.\n",
    "#cv = ShuffleSplit(n_splits=100, test_size=0.2, random_state=0)\n",
    "cv=10\n",
    "estimator = LogisticRegression()\n",
    "plot_learning_curve(estimator, title, X, y, cv=cv, n_jobs=4)\n",
    "\n",
    "plt.show()"
   ]
  },
  {
   "cell_type": "code",
   "execution_count": null,
   "metadata": {},
   "outputs": [],
   "source": []
  }
 ],
 "metadata": {
  "kernelspec": {
   "display_name": "Python 3",
   "language": "python",
   "name": "python3"
  },
  "language_info": {
   "codemirror_mode": {
    "name": "ipython",
    "version": 3
   },
   "file_extension": ".py",
   "mimetype": "text/x-python",
   "name": "python",
   "nbconvert_exporter": "python",
   "pygments_lexer": "ipython3",
   "version": "3.7.0"
  }
 },
 "nbformat": 4,
 "nbformat_minor": 2
}
